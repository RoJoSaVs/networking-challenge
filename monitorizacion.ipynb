{
 "cells": [
  {
   "cell_type": "code",
   "execution_count": 19,
   "id": "b2218b3c-2ef3-4e72-9ae6-fc4a63969b2f",
   "metadata": {},
   "outputs": [],
   "source": [
    "from ncclient import manager\n",
    "from xml.dom import minidom\n",
    "import xml.etree.ElementTree as ET"
   ]
  },
  {
   "cell_type": "code",
   "execution_count": 20,
   "id": "8f5ad7fd-fc28-4609-916f-7a97033e4e9f",
   "metadata": {},
   "outputs": [],
   "source": [
    "HOST = 'sandbox-iosxr-1.cisco.com'\n",
    "PORT = 830  # NETCONF Port\n",
    "USERNAME = 'admin'\n",
    "PASSWORD = 'C1sco12345'"
   ]
  },
  {
   "cell_type": "code",
   "execution_count": 21,
   "id": "480c845e-1860-4eeb-af40-adb133ab18b3",
   "metadata": {},
   "outputs": [],
   "source": [
    "# Crear una sesión NETCONF\n",
    "with manager.connect(\n",
    "    host=HOST,\n",
    "    port=PORT,\n",
    "    username=USERNAME,\n",
    "    password=PASSWORD,\n",
    "    hostkey_verify=False,  # Para evitar problemas con certificados en el sandbox\n",
    "    device_params={'name': 'csr'}\n",
    ") as m:\n",
    "    # Realizar una solicitud GET con el filtro XPath para obtener la tabla de enrutamiento IPv4\n",
    "    netconf_reply = m.get_config(source='running')"
   ]
  },
  {
   "cell_type": "code",
   "execution_count": 22,
   "id": "f735d028-6da6-4852-970b-d8e246ea1d31",
   "metadata": {},
   "outputs": [],
   "source": [
    "# Transforma la respuesta obtenida para que sea un string en formato xml\n",
    "stringReply = minidom.parseString(netconf_reply.xml).toprettyxml()"
   ]
  },
  {
   "cell_type": "code",
   "execution_count": 24,
   "id": "0866bd15-4c6e-4582-b5c7-82de3f8d54a4",
   "metadata": {},
   "outputs": [],
   "source": [
    "# Cambia el string para que sea un arbol, de manera que se pueda realizar una busqueda por etiqueta en python\n",
    "root = ET.fromstring(stringReply) "
   ]
  },
  {
   "cell_type": "code",
   "execution_count": 26,
   "id": "1932b9e9-1988-4784-89bf-9791fb6a6629",
   "metadata": {},
   "outputs": [
    {
     "name": "stdout",
     "output_type": "stream",
     "text": [
      "Interface: Loopback100, Address: 1.1.1.100, Netmask: 255.255.255.255\n",
      "Interface: Loopback555, Address: 3.3.3.6, Netmask: 255.255.255.255\n",
      "Interface: MgmtEth0/RP0/CPU0/0, Address: 10.10.20.175, Netmask: 255.255.255.0\n",
      "Interface: MgmtEth1/RP0/CPU0/0, Address: 2.2.2.2, Netmask: 255.255.255.255\n"
     ]
    }
   ],
   "source": [
    "routing_table = {}\n",
    "\n",
    "# Busca los atributos pertenencientes a la tabla de enrutamiento\n",
    "for interface_config in root.findall('.//{http://cisco.com/ns/yang/Cisco-IOS-XR-ifmgr-cfg}interface-configuration'):\n",
    "    interface_name = interface_config.find('{http://cisco.com/ns/yang/Cisco-IOS-XR-ifmgr-cfg}interface-name').text\n",
    "    ipv4_network = interface_config.find('.//{http://cisco.com/ns/yang/Cisco-IOS-XR-ipv4-io-cfg}ipv4-network')\n",
    "\n",
    "    # Descarta los elementos que no tienen asignados una direccion ip\n",
    "    if ipv4_network is not None:\n",
    "        address = ipv4_network.find('.//{http://cisco.com/ns/yang/Cisco-IOS-XR-ipv4-io-cfg}address').text\n",
    "        netmask = ipv4_network.find('.//{http://cisco.com/ns/yang/Cisco-IOS-XR-ipv4-io-cfg}netmask').text\n",
    "        routing_table[interface_name] = {'address': address, 'netmask': netmask}\n",
    "\n",
    "# Imprimir la tabla de enrutamiento\n",
    "for interface, data in routing_table.items():\n",
    "    print(f\"Interface: {interface}, Address: {data['address']}, Netmask: {data['netmask']}\")"
   ]
  },
  {
   "cell_type": "code",
   "execution_count": null,
   "id": "d337826f-23c9-478f-a984-c3dfa35bc990",
   "metadata": {},
   "outputs": [],
   "source": []
  }
 ],
 "metadata": {
  "kernelspec": {
   "display_name": "Python 3 (ipykernel)",
   "language": "python",
   "name": "python3"
  },
  "language_info": {
   "codemirror_mode": {
    "name": "ipython",
    "version": 3
   },
   "file_extension": ".py",
   "mimetype": "text/x-python",
   "name": "python",
   "nbconvert_exporter": "python",
   "pygments_lexer": "ipython3",
   "version": "3.11.4"
  }
 },
 "nbformat": 4,
 "nbformat_minor": 5
}
